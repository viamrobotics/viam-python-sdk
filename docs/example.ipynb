{
    "cells": [
        {
            "cell_type": "markdown",
            "metadata": {},
            "source": [
                "# Example usage\n",
                "\n",
                "The Viam SDK can be used in two ways:\n",
                "1. As a client to connect to a (remote or local) robot\n",
                "2. To create custom components and provide additional functionality to a robot\n",
                "\n",
                "## Connect as a client\n",
                "\n",
                "To connect to a robot as a client, you should instantiate an instance of a `RobotClient`"
            ]
        },
        {
            "cell_type": "code",
            "execution_count": 11,
            "metadata": {},
            "outputs": [],
            "source": [
                "# Please excuse the boilerplate\n",
                "%autoawait asyncio\n",
                "import warnings\n",
                "warnings.filterwarnings('ignore')"
            ]
        },
        {
            "cell_type": "code",
            "execution_count": 7,
            "metadata": {},
            "outputs": [],
            "source": [
                "from viam import logging\n",
                "from viam.robot.client import RobotClient\n",
                "from viam.rpc.dial import DialOptions\n",
                "\n",
                "async def connect() -> RobotClient:\n",
                "    options = RobotClient.Options(\n",
                "        dial_options=DialOptions(insecure=True),\n",
                "        log_level=logging.FATAL\n",
                "    )\n",
                "    return await RobotClient.at_address('localhost:9090', options)"
            ]
        },
        {
            "cell_type": "markdown",
            "metadata": {},
            "source": [
                "You can also create a `RobotClient` by providing an existing connection"
            ]
        },
        {
            "cell_type": "code",
            "execution_count": 3,
            "metadata": {},
            "outputs": [],
            "source": [
                "from viam import logging\n",
                "from viam.robot.client import RobotClient\n",
                "from viam.rpc.dial import DialOptions, dial_direct\n",
                "\n",
                "async def connect_with_channel() -> RobotClient:\n",
                "    async with await dial_direct('localhost:9090', DialOptions(insecure=True)) as channel:\n",
                "        return await RobotClient.with_channel(channel, RobotClient.Options(refresh_interval=10, log_level=logging.FATAL))"
            ]
        },
        {
            "cell_type": "markdown",
            "metadata": {},
            "source": [
                "Once you have a connected `RobotClient`, you can then obtain the robot's components by their name"
            ]
        },
        {
            "cell_type": "code",
            "execution_count": 9,
            "metadata": {},
            "outputs": [
                {
                    "name": "stderr",
                    "output_type": "stream",
                    "text": [
                        "Unclosed connection: Channel('localhost', 9090, ..., path=None)\n"
                    ]
                }
            ],
            "source": [
                "from viam.components.motor import Motor\n",
                "\n",
                "async def motor_control():\n",
                "    robot = await connect()\n",
                "    motor = Motor.from_robot(robot, 'motor0')\n",
                "    await motor.go_to(rpm=100, position_revolutions=1)\n",
                "    await robot.close()"
            ]
        },
        {
            "cell_type": "markdown",
            "metadata": {},
            "source": [
                "You can also use the `RobotClient` to make service calls to the connected robot."
            ]
        },
        {
            "cell_type": "code",
            "execution_count": null,
            "metadata": {},
            "outputs": [],
            "source": [
                "from viam.services.types import ServiceType\n",
                "\n",
                "async def vision():\n",
                "    vision_service = robot.get_service(ServiceType.VISION)\n",
                "    detectors = await vision_service.get_detections('camera_1', 'detector_1')"
            ]
        },
        {
            "cell_type": "markdown",
            "metadata": {},
            "source": [
                "At the end, don't forget to close the connection"
            ]
        },
        {
            "cell_type": "code",
            "execution_count": 5,
            "metadata": {},
            "outputs": [],
            "source": [
                "async def cleanup():\n",
                "    await robot.close()"
            ]
        },
        {
            "cell_type": "markdown",
            "metadata": {},
            "source": [
                "## Create custom components\n",
                "\n",
                "While the main RDK is written in golang, you can create custom components in python and connect them to a robot as a `remote` component. This allows you to extend the functionality of a robot, or even create an entire robot exclusively in python.\n",
                "\n",
                "The steps required in creating a custom component and connecting it to a robot are\n",
                "1. Subclass a component and implement desired functions\n",
                "2. Create an `rpc.server.Server` instance and register the custom component\n",
                "3. Start the `Server` and register the running server as a remote\n",
                "\n",
                "### Subclass a component\n",
                "\n",
                "The SDK provides a wide array of components to customize. You can browse through the API Reference to see all of them, but for now we'll use an `Arm` as an example. Our custom Arm will be extremely simple -- it will only save the positions provided to it."
            ]
        },
        {
            "cell_type": "code",
            "execution_count": 1,
            "metadata": {},
            "outputs": [],
            "source": [
                "from typing import Optional\n",
                "from viam.components.arm import Arm, JointPositions, Pose, WorldState\n",
                "\n",
                "class MyCoolArm(Arm):\n",
                "\n",
                "    def __init__(self, name: str):\n",
                "        # Starting position\n",
                "        self.position = Pose(\n",
                "            x=0,\n",
                "            y=0,\n",
                "            z=0,\n",
                "            o_x=0,\n",
                "            o_y=0,\n",
                "            o_z=0,\n",
                "            theta=0,\n",
                "        )\n",
                "\n",
                "        # Starting joint positions\n",
                "        self.joint_positions = JointPositions(degrees=[0, 0, 0, 0, 0, 0])\n",
                "        self.is_stoppped = True\n",
                "        super().__init__(name)\n",
                "\n",
                "    async def get_end_position(self) -> Pose:\n",
                "        return self.position\n",
                "\n",
                "    async def move_to_position(\n",
                "        self, pose: Pose,\n",
                "        world_state: Optional[WorldState] = None\n",
                "    ):\n",
                "        self.is_stoppped = False\n",
                "        self.position = pose\n",
                "\n",
                "    async def get_joint_positions(self) -> JointPositions:\n",
                "        return self.joint_positions\n",
                "\n",
                "    async def move_to_joint_positions(self, positions: JointPositions):\n",
                "        self.is_stoppped = False\n",
                "        self.joint_positions = positions\n",
                "\n",
                "    async def stop(self):\n",
                "        self.is_stoppped = True"
            ]
        },
        {
            "cell_type": "markdown",
            "metadata": {},
            "source": [
                "You can view more component implementations in the [examples](https://github.com/viamrobotics/python-sdk/blob/main/examples/server/v1/components.py)."
            ]
        },
        {
            "cell_type": "markdown",
            "metadata": {},
            "source": [
                "### Register the custom component\n",
                "\n",
                "Now that we've created the custom component, we must register it with a server so that it will be visible to any robots connecting to it."
            ]
        },
        {
            "cell_type": "code",
            "execution_count": 12,
            "metadata": {},
            "outputs": [],
            "source": [
                "# python-server.py\n",
                "import asyncio\n",
                "from viam.rpc.server import Server\n",
                "\n",
                "async def main():\n",
                "    srv = Server([MyCoolArm('my-arm')])\n",
                "\n",
                "if __name__ == '__main__':\n",
                "    try:\n",
                "        asyncio.run(main())\n",
                "    except:\n",
                "        pass"
            ]
        },
        {
            "cell_type": "markdown",
            "metadata": {},
            "source": [
                "### Start the Server and add it as a Remote\n",
                "\n",
                "Now that we have a server that knows about our custom Arm component, we need to start the server so it can receive gRPC calls. Once it's started, we can then register this server as a remote.\n",
                "\n",
                "```python3\n",
                "# python-server.py\n",
                "\n",
                "async def main():\n",
                "  ...\n",
                "  await srv.serve()\n",
                "```\n",
                "**NB**: When you call `srv.serve()`, the default host and port is `localhost:9090`. This can be changed by passing in a `host` and/or `port` parameter to the `serve` function.\n",
                "\n",
                "To use this custom server as part of a larger robot, you’ll want to add it as a `remote` in the config for your main part.\n",
                "```json\n",
                "[\n",
                "    {\n",
                "      \"name\": \"my-cool-python-components\", // The name of the remote, can be anything\n",
                "      \"insecure\": true,                    // Whether this connection should use SSL\n",
                "      \"address\": \"localhost:9090\"          // The location of the remote robot\n",
                "    }\n",
                "  ]\n",
                "```\n",
                "\n",
                "And to ensure that the python server starts up with the rest of the robot, you can add it as a process. \n",
                "```json\n",
                "[\n",
                "  {\n",
                "    \"id\": 0,\n",
                "    \"log\": true,\n",
                "    \"name\": \"python\",\n",
                "    \"args\": [\n",
                "      \"/home/pi/python-server.py\"\n",
                "    ]\n",
                "  }\n",
                "]\n",
                "```\n",
                "\n",
                "**NB**: The `viam-server` starts as a root process, so you may need to switch users to run the python SDK server.\n",
                "```json\n",
                "[\n",
                "  {\n",
                "    \"id\": 0,\n",
                "    \"log\": true,\n",
                "    \"name\": \"sudo\",\n",
                "    \"args\": [\n",
                "      \"-u\",\n",
                "      \"pi\",\n",
                "      \"python\",\n",
                "      \"/home/pi/python-server.py\"\n",
                "    ]\n",
                "  }\n",
                "]\n",
                "```\n"
            ]
        }
    ],
    "metadata": {
        "kernelspec": {
            "display_name": "Python 3.10.4 ('pysdk')",
            "language": "python",
            "name": "python3"
        },
        "language_info": {
            "codemirror_mode": {
                "name": "ipython",
                "version": 3
            },
            "file_extension": ".py",
            "mimetype": "text/x-python",
            "name": "python",
            "nbconvert_exporter": "python",
            "pygments_lexer": "ipython3",
            "version": "3.10.4"
        },
        "vscode": {
            "interpreter": {
                "hash": "be90d0870679ea74a3098707423ded74ee9013b47deb62470047f6fb6d24d029"
            }
        }
    },
    "nbformat": 4,
    "nbformat_minor": 4
}
